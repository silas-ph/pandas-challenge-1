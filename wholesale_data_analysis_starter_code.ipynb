{
 "cells": [
  {
   "cell_type": "markdown",
   "id": "dc0318d6",
   "metadata": {},
   "source": [
    "## Part 1: Explore the Data\n",
    "\n",
    "Import the data and use Pandas to learn more about the dataset."
   ]
  },
  {
   "cell_type": "code",
   "execution_count": 708,
   "id": "e076f57f",
   "metadata": {},
   "outputs": [
    {
     "data": {
      "text/html": [
       "<div>\n",
       "<style scoped>\n",
       "    .dataframe tbody tr th:only-of-type {\n",
       "        vertical-align: middle;\n",
       "    }\n",
       "\n",
       "    .dataframe tbody tr th {\n",
       "        vertical-align: top;\n",
       "    }\n",
       "\n",
       "    .dataframe thead th {\n",
       "        text-align: right;\n",
       "    }\n",
       "</style>\n",
       "<table border=\"1\" class=\"dataframe\">\n",
       "  <thead>\n",
       "    <tr style=\"text-align: right;\">\n",
       "      <th></th>\n",
       "      <th>first</th>\n",
       "      <th>last</th>\n",
       "      <th>job</th>\n",
       "      <th>phone</th>\n",
       "      <th>email</th>\n",
       "      <th>client_id</th>\n",
       "      <th>order_id</th>\n",
       "      <th>order_date</th>\n",
       "      <th>order_week</th>\n",
       "      <th>order_year</th>\n",
       "      <th>item_id</th>\n",
       "      <th>category</th>\n",
       "      <th>subcategory</th>\n",
       "      <th>unit_price</th>\n",
       "      <th>unit_cost</th>\n",
       "      <th>unit_weight</th>\n",
       "      <th>qty</th>\n",
       "      <th>line_number</th>\n",
       "    </tr>\n",
       "  </thead>\n",
       "  <tbody>\n",
       "    <tr>\n",
       "      <th>0</th>\n",
       "      <td>Donald</td>\n",
       "      <td>Harding</td>\n",
       "      <td>Immunologist</td>\n",
       "      <td>793-904-7725x39308</td>\n",
       "      <td>harding.donald.7185@sullivan.com</td>\n",
       "      <td>58515</td>\n",
       "      <td>8953482</td>\n",
       "      <td>2023-04-28</td>\n",
       "      <td>17</td>\n",
       "      <td>2023</td>\n",
       "      <td>EUD29711-63-6U</td>\n",
       "      <td>decor</td>\n",
       "      <td>wall art</td>\n",
       "      <td>1096.80</td>\n",
       "      <td>762.71</td>\n",
       "      <td>7.50</td>\n",
       "      <td>105</td>\n",
       "      <td>1</td>\n",
       "    </tr>\n",
       "    <tr>\n",
       "      <th>1</th>\n",
       "      <td>Tiffany</td>\n",
       "      <td>Myers</td>\n",
       "      <td>Music therapist</td>\n",
       "      <td>201.442.4543x942</td>\n",
       "      <td>myers.t.6537@ferguson-johnson.net</td>\n",
       "      <td>37609</td>\n",
       "      <td>8069089</td>\n",
       "      <td>2023-05-19</td>\n",
       "      <td>20</td>\n",
       "      <td>2023</td>\n",
       "      <td>XDA18116-89-4A</td>\n",
       "      <td>consumables</td>\n",
       "      <td>pens</td>\n",
       "      <td>24.95</td>\n",
       "      <td>15.09</td>\n",
       "      <td>1.49</td>\n",
       "      <td>21</td>\n",
       "      <td>0</td>\n",
       "    </tr>\n",
       "    <tr>\n",
       "      <th>2</th>\n",
       "      <td>Shannon</td>\n",
       "      <td>Watson</td>\n",
       "      <td>Immunologist</td>\n",
       "      <td>687.737.9424x8503</td>\n",
       "      <td>swatson8146@payne.net</td>\n",
       "      <td>57113</td>\n",
       "      <td>1902144</td>\n",
       "      <td>2023-01-29</td>\n",
       "      <td>4</td>\n",
       "      <td>2023</td>\n",
       "      <td>ABE59463-05-7E</td>\n",
       "      <td>software</td>\n",
       "      <td>project management</td>\n",
       "      <td>13.52</td>\n",
       "      <td>7.86</td>\n",
       "      <td>1.68</td>\n",
       "      <td>39</td>\n",
       "      <td>6</td>\n",
       "    </tr>\n",
       "    <tr>\n",
       "      <th>3</th>\n",
       "      <td>Nathan</td>\n",
       "      <td>Baker</td>\n",
       "      <td>Accounting technician</td>\n",
       "      <td>827-788-8123x012</td>\n",
       "      <td>bakernathan@benson.com</td>\n",
       "      <td>46554</td>\n",
       "      <td>9031802</td>\n",
       "      <td>2023-04-25</td>\n",
       "      <td>17</td>\n",
       "      <td>2023</td>\n",
       "      <td>ZMM00836-65-0C</td>\n",
       "      <td>consumables</td>\n",
       "      <td>pens</td>\n",
       "      <td>36.42</td>\n",
       "      <td>24.85</td>\n",
       "      <td>1.23</td>\n",
       "      <td>29</td>\n",
       "      <td>3</td>\n",
       "    </tr>\n",
       "    <tr>\n",
       "      <th>4</th>\n",
       "      <td>Christina</td>\n",
       "      <td>Schwartz</td>\n",
       "      <td>Chiropractor</td>\n",
       "      <td>265-829-3643</td>\n",
       "      <td>christinaschwartz9252@mcconnell.com</td>\n",
       "      <td>92089</td>\n",
       "      <td>1322274</td>\n",
       "      <td>2023-05-28</td>\n",
       "      <td>21</td>\n",
       "      <td>2023</td>\n",
       "      <td>BZX55559-12-3X</td>\n",
       "      <td>consumables</td>\n",
       "      <td>misc</td>\n",
       "      <td>195.10</td>\n",
       "      <td>108.17</td>\n",
       "      <td>46.43</td>\n",
       "      <td>20</td>\n",
       "      <td>1</td>\n",
       "    </tr>\n",
       "  </tbody>\n",
       "</table>\n",
       "</div>"
      ],
      "text/plain": [
       "       first      last                    job               phone  \\\n",
       "0     Donald   Harding           Immunologist  793-904-7725x39308   \n",
       "1    Tiffany     Myers        Music therapist    201.442.4543x942   \n",
       "2    Shannon    Watson           Immunologist   687.737.9424x8503   \n",
       "3     Nathan     Baker  Accounting technician    827-788-8123x012   \n",
       "4  Christina  Schwartz           Chiropractor        265-829-3643   \n",
       "\n",
       "                                 email  client_id  order_id  order_date  \\\n",
       "0     harding.donald.7185@sullivan.com      58515   8953482  2023-04-28   \n",
       "1    myers.t.6537@ferguson-johnson.net      37609   8069089  2023-05-19   \n",
       "2                swatson8146@payne.net      57113   1902144  2023-01-29   \n",
       "3               bakernathan@benson.com      46554   9031802  2023-04-25   \n",
       "4  christinaschwartz9252@mcconnell.com      92089   1322274  2023-05-28   \n",
       "\n",
       "   order_week  order_year         item_id     category         subcategory  \\\n",
       "0          17        2023  EUD29711-63-6U        decor            wall art   \n",
       "1          20        2023  XDA18116-89-4A  consumables                pens   \n",
       "2           4        2023  ABE59463-05-7E     software  project management   \n",
       "3          17        2023  ZMM00836-65-0C  consumables                pens   \n",
       "4          21        2023  BZX55559-12-3X  consumables                misc   \n",
       "\n",
       "   unit_price  unit_cost  unit_weight  qty  line_number  \n",
       "0     1096.80     762.71         7.50  105            1  \n",
       "1       24.95      15.09         1.49   21            0  \n",
       "2       13.52       7.86         1.68   39            6  \n",
       "3       36.42      24.85         1.23   29            3  \n",
       "4      195.10     108.17        46.43   20            1  "
      ]
     },
     "execution_count": 708,
     "metadata": {},
     "output_type": "execute_result"
    }
   ],
   "source": [
    "import pandas as pd\n",
    "\n",
    "df = pd.read_csv(client_dataset.csv')\n",
    "\n",
    "df.head()"
   ]
  },
  {
   "cell_type": "code",
   "execution_count": 709,
   "id": "71b9bbd2",
   "metadata": {},
   "outputs": [
    {
     "name": "stdout",
     "output_type": "stream",
     "text": [
      "Index(['first', 'last', 'job', 'phone', 'email', 'client_id', 'order_id',\n",
      "       'order_date', 'order_week', 'order_year', 'item_id', 'category',\n",
      "       'subcategory', 'unit_price', 'unit_cost', 'unit_weight', 'qty',\n",
      "       'line_number'],\n",
      "      dtype='object')\n"
     ]
    }
   ],
   "source": [
    "# View the column names in the data\n",
    "print(df.columns)\n"
   ]
  },
  {
   "cell_type": "code",
   "execution_count": 710,
   "id": "cd156cae",
   "metadata": {},
   "outputs": [],
   "source": [
    "# Use this space to do any additional research\n",
    "# and familiarize yourself with the data.\n",
    "\n"
   ]
  },
  {
   "cell_type": "code",
   "execution_count": 711,
   "id": "bc0f4172",
   "metadata": {},
   "outputs": [
    {
     "data": {
      "text/html": [
       "<div>\n",
       "<style scoped>\n",
       "    .dataframe tbody tr th:only-of-type {\n",
       "        vertical-align: middle;\n",
       "    }\n",
       "\n",
       "    .dataframe tbody tr th {\n",
       "        vertical-align: top;\n",
       "    }\n",
       "\n",
       "    .dataframe thead th {\n",
       "        text-align: right;\n",
       "    }\n",
       "</style>\n",
       "<table border=\"1\" class=\"dataframe\">\n",
       "  <thead>\n",
       "    <tr style=\"text-align: right;\">\n",
       "      <th></th>\n",
       "      <th>client_id</th>\n",
       "      <th>order_id</th>\n",
       "      <th>order_week</th>\n",
       "      <th>order_year</th>\n",
       "      <th>unit_price</th>\n",
       "      <th>unit_cost</th>\n",
       "      <th>unit_weight</th>\n",
       "      <th>qty</th>\n",
       "      <th>line_number</th>\n",
       "    </tr>\n",
       "  </thead>\n",
       "  <tbody>\n",
       "    <tr>\n",
       "      <th>count</th>\n",
       "      <td>54639.000000</td>\n",
       "      <td>5.463900e+04</td>\n",
       "      <td>54639.000000</td>\n",
       "      <td>54639.000000</td>\n",
       "      <td>54639.000000</td>\n",
       "      <td>54639.000000</td>\n",
       "      <td>54639.000000</td>\n",
       "      <td>5.463900e+04</td>\n",
       "      <td>54639.000000</td>\n",
       "    </tr>\n",
       "    <tr>\n",
       "      <th>mean</th>\n",
       "      <td>54837.869416</td>\n",
       "      <td>5.470190e+06</td>\n",
       "      <td>11.359139</td>\n",
       "      <td>2022.993064</td>\n",
       "      <td>136.267207</td>\n",
       "      <td>99.446073</td>\n",
       "      <td>5.004116</td>\n",
       "      <td>5.702646e+02</td>\n",
       "      <td>2.979667</td>\n",
       "    </tr>\n",
       "    <tr>\n",
       "      <th>std</th>\n",
       "      <td>25487.438231</td>\n",
       "      <td>2.599807e+06</td>\n",
       "      <td>7.023499</td>\n",
       "      <td>0.082997</td>\n",
       "      <td>183.873135</td>\n",
       "      <td>133.164267</td>\n",
       "      <td>5.326599</td>\n",
       "      <td>1.879552e+04</td>\n",
       "      <td>2.436320</td>\n",
       "    </tr>\n",
       "    <tr>\n",
       "      <th>min</th>\n",
       "      <td>10033.000000</td>\n",
       "      <td>1.000886e+06</td>\n",
       "      <td>1.000000</td>\n",
       "      <td>2022.000000</td>\n",
       "      <td>0.010000</td>\n",
       "      <td>0.010000</td>\n",
       "      <td>0.000000</td>\n",
       "      <td>0.000000e+00</td>\n",
       "      <td>0.000000</td>\n",
       "    </tr>\n",
       "    <tr>\n",
       "      <th>25%</th>\n",
       "      <td>33593.000000</td>\n",
       "      <td>3.196372e+06</td>\n",
       "      <td>6.000000</td>\n",
       "      <td>2023.000000</td>\n",
       "      <td>20.800000</td>\n",
       "      <td>14.840000</td>\n",
       "      <td>1.450000</td>\n",
       "      <td>3.200000e+01</td>\n",
       "      <td>1.000000</td>\n",
       "    </tr>\n",
       "    <tr>\n",
       "      <th>50%</th>\n",
       "      <td>53305.000000</td>\n",
       "      <td>5.496966e+06</td>\n",
       "      <td>11.000000</td>\n",
       "      <td>2023.000000</td>\n",
       "      <td>68.310000</td>\n",
       "      <td>49.890000</td>\n",
       "      <td>3.240000</td>\n",
       "      <td>6.800000e+01</td>\n",
       "      <td>3.000000</td>\n",
       "    </tr>\n",
       "    <tr>\n",
       "      <th>75%</th>\n",
       "      <td>78498.000000</td>\n",
       "      <td>7.733869e+06</td>\n",
       "      <td>17.000000</td>\n",
       "      <td>2023.000000</td>\n",
       "      <td>173.160000</td>\n",
       "      <td>125.570000</td>\n",
       "      <td>6.890000</td>\n",
       "      <td>1.700000e+02</td>\n",
       "      <td>5.000000</td>\n",
       "    </tr>\n",
       "    <tr>\n",
       "      <th>max</th>\n",
       "      <td>99984.000000</td>\n",
       "      <td>9.998480e+06</td>\n",
       "      <td>52.000000</td>\n",
       "      <td>2023.000000</td>\n",
       "      <td>1396.230000</td>\n",
       "      <td>846.270000</td>\n",
       "      <td>46.430000</td>\n",
       "      <td>3.958244e+06</td>\n",
       "      <td>9.000000</td>\n",
       "    </tr>\n",
       "  </tbody>\n",
       "</table>\n",
       "</div>"
      ],
      "text/plain": [
       "          client_id      order_id    order_week    order_year    unit_price  \\\n",
       "count  54639.000000  5.463900e+04  54639.000000  54639.000000  54639.000000   \n",
       "mean   54837.869416  5.470190e+06     11.359139   2022.993064    136.267207   \n",
       "std    25487.438231  2.599807e+06      7.023499      0.082997    183.873135   \n",
       "min    10033.000000  1.000886e+06      1.000000   2022.000000      0.010000   \n",
       "25%    33593.000000  3.196372e+06      6.000000   2023.000000     20.800000   \n",
       "50%    53305.000000  5.496966e+06     11.000000   2023.000000     68.310000   \n",
       "75%    78498.000000  7.733869e+06     17.000000   2023.000000    173.160000   \n",
       "max    99984.000000  9.998480e+06     52.000000   2023.000000   1396.230000   \n",
       "\n",
       "          unit_cost   unit_weight           qty   line_number  \n",
       "count  54639.000000  54639.000000  5.463900e+04  54639.000000  \n",
       "mean      99.446073      5.004116  5.702646e+02      2.979667  \n",
       "std      133.164267      5.326599  1.879552e+04      2.436320  \n",
       "min        0.010000      0.000000  0.000000e+00      0.000000  \n",
       "25%       14.840000      1.450000  3.200000e+01      1.000000  \n",
       "50%       49.890000      3.240000  6.800000e+01      3.000000  \n",
       "75%      125.570000      6.890000  1.700000e+02      5.000000  \n",
       "max      846.270000     46.430000  3.958244e+06      9.000000  "
      ]
     },
     "execution_count": 711,
     "metadata": {},
     "output_type": "execute_result"
    }
   ],
   "source": [
    "df.describe()\n"
   ]
  },
  {
   "cell_type": "code",
   "execution_count": 712,
   "id": "74b543a2",
   "metadata": {},
   "outputs": [
    {
     "name": "stdout",
     "output_type": "stream",
     "text": [
      "<class 'pandas.core.frame.DataFrame'>\n",
      "RangeIndex: 54639 entries, 0 to 54638\n",
      "Data columns (total 18 columns):\n",
      " #   Column       Non-Null Count  Dtype  \n",
      "---  ------       --------------  -----  \n",
      " 0   first        54639 non-null  object \n",
      " 1   last         54639 non-null  object \n",
      " 2   job          54639 non-null  object \n",
      " 3   phone        54639 non-null  object \n",
      " 4   email        54639 non-null  object \n",
      " 5   client_id    54639 non-null  int64  \n",
      " 6   order_id     54639 non-null  int64  \n",
      " 7   order_date   54639 non-null  object \n",
      " 8   order_week   54639 non-null  int64  \n",
      " 9   order_year   54639 non-null  int64  \n",
      " 10  item_id      54639 non-null  object \n",
      " 11  category     54639 non-null  object \n",
      " 12  subcategory  54639 non-null  object \n",
      " 13  unit_price   54639 non-null  float64\n",
      " 14  unit_cost    54639 non-null  float64\n",
      " 15  unit_weight  54639 non-null  float64\n",
      " 16  qty          54639 non-null  int64  \n",
      " 17  line_number  54639 non-null  int64  \n",
      "dtypes: float64(3), int64(6), object(9)\n",
      "memory usage: 7.5+ MB\n"
     ]
    }
   ],
   "source": [
    "df.info()\n"
   ]
  },
  {
   "cell_type": "code",
   "execution_count": 713,
   "id": "4b3440c2",
   "metadata": {},
   "outputs": [
    {
     "data": {
      "text/plain": [
       "first           object\n",
       "last            object\n",
       "job             object\n",
       "phone           object\n",
       "email           object\n",
       "client_id        int64\n",
       "order_id         int64\n",
       "order_date      object\n",
       "order_week       int64\n",
       "order_year       int64\n",
       "item_id         object\n",
       "category        object\n",
       "subcategory     object\n",
       "unit_price     float64\n",
       "unit_cost      float64\n",
       "unit_weight    float64\n",
       "qty              int64\n",
       "line_number      int64\n",
       "dtype: object"
      ]
     },
     "execution_count": 713,
     "metadata": {},
     "output_type": "execute_result"
    }
   ],
   "source": [
    "df.dtypes"
   ]
  },
  {
   "cell_type": "code",
   "execution_count": 714,
   "id": "20b0d722",
   "metadata": {},
   "outputs": [
    {
     "data": {
      "text/plain": [
       "client_id\n",
       "33615    220\n",
       "66037    211\n",
       "46820    209\n",
       "38378    207\n",
       "24741    207\n",
       "        ... \n",
       "70734      4\n",
       "32001      4\n",
       "77583      3\n",
       "76017      3\n",
       "94987      1\n",
       "Name: count, Length: 999, dtype: int64"
      ]
     },
     "execution_count": 714,
     "metadata": {},
     "output_type": "execute_result"
    }
   ],
   "source": [
    "df.client_id.value_counts()\n",
    "    "
   ]
  },
  {
   "cell_type": "code",
   "execution_count": 715,
   "id": "466e82b5",
   "metadata": {},
   "outputs": [
    {
     "data": {
      "text/plain": [
       "99.4460727685353"
      ]
     },
     "execution_count": 715,
     "metadata": {},
     "output_type": "execute_result"
    }
   ],
   "source": [
    "df.unit_cost.mean()"
   ]
  },
  {
   "cell_type": "code",
   "execution_count": 716,
   "id": "0e218e24",
   "metadata": {},
   "outputs": [
    {
     "data": {
      "text/html": [
       "<div>\n",
       "<style scoped>\n",
       "    .dataframe tbody tr th:only-of-type {\n",
       "        vertical-align: middle;\n",
       "    }\n",
       "\n",
       "    .dataframe tbody tr th {\n",
       "        vertical-align: top;\n",
       "    }\n",
       "\n",
       "    .dataframe thead th {\n",
       "        text-align: right;\n",
       "    }\n",
       "</style>\n",
       "<table border=\"1\" class=\"dataframe\">\n",
       "  <thead>\n",
       "    <tr style=\"text-align: right;\">\n",
       "      <th></th>\n",
       "      <th>unit_cost</th>\n",
       "    </tr>\n",
       "    <tr>\n",
       "      <th>client_id</th>\n",
       "      <th></th>\n",
       "    </tr>\n",
       "  </thead>\n",
       "  <tbody>\n",
       "    <tr>\n",
       "      <th>10033</th>\n",
       "      <td>135.644737</td>\n",
       "    </tr>\n",
       "    <tr>\n",
       "      <th>10091</th>\n",
       "      <td>51.322143</td>\n",
       "    </tr>\n",
       "    <tr>\n",
       "      <th>10218</th>\n",
       "      <td>80.323214</td>\n",
       "    </tr>\n",
       "    <tr>\n",
       "      <th>10351</th>\n",
       "      <td>87.309000</td>\n",
       "    </tr>\n",
       "    <tr>\n",
       "      <th>10435</th>\n",
       "      <td>82.391538</td>\n",
       "    </tr>\n",
       "    <tr>\n",
       "      <th>...</th>\n",
       "      <td>...</td>\n",
       "    </tr>\n",
       "    <tr>\n",
       "      <th>99400</th>\n",
       "      <td>98.532609</td>\n",
       "    </tr>\n",
       "    <tr>\n",
       "      <th>99450</th>\n",
       "      <td>70.372174</td>\n",
       "    </tr>\n",
       "    <tr>\n",
       "      <th>99736</th>\n",
       "      <td>88.659000</td>\n",
       "    </tr>\n",
       "    <tr>\n",
       "      <th>99973</th>\n",
       "      <td>92.408000</td>\n",
       "    </tr>\n",
       "    <tr>\n",
       "      <th>99984</th>\n",
       "      <td>105.244545</td>\n",
       "    </tr>\n",
       "  </tbody>\n",
       "</table>\n",
       "<p>999 rows × 1 columns</p>\n",
       "</div>"
      ],
      "text/plain": [
       "            unit_cost\n",
       "client_id            \n",
       "10033      135.644737\n",
       "10091       51.322143\n",
       "10218       80.323214\n",
       "10351       87.309000\n",
       "10435       82.391538\n",
       "...               ...\n",
       "99400       98.532609\n",
       "99450       70.372174\n",
       "99736       88.659000\n",
       "99973       92.408000\n",
       "99984      105.244545\n",
       "\n",
       "[999 rows x 1 columns]"
      ]
     },
     "execution_count": 716,
     "metadata": {},
     "output_type": "execute_result"
    }
   ],
   "source": [
    "map_df = df.groupby('client_id').agg({'unit_cost': 'mean'})\n",
    "map_df\n"
   ]
  },
  {
   "cell_type": "code",
   "execution_count": 717,
   "id": "551cb358",
   "metadata": {},
   "outputs": [
    {
     "name": "stdout",
     "output_type": "stream",
     "text": [
      "The top three categories are:\n",
      "   Category  Count\n",
      "consumables  23538\n",
      "  furniture  11915\n",
      "   software   8400\n"
     ]
    }
   ],
   "source": [
    "# What three item categories had the most entries?\n",
    "top_three_categories = df['category'].value_counts().nlargest(3)\n",
    "# Convert the series to a dataframe\n",
    "top_three_categories_df = top_three_categories.reset_index()\n",
    "\n",
    "# Rename the columns\n",
    "top_three_categories_df.columns = ['Category', 'Count']\n",
    "\n",
    "# Print the dataframe\n",
    "print(\"The top three categories are:\")\n",
    "print(top_three_categories_df.to_string(index=False))"
   ]
  },
  {
   "cell_type": "code",
   "execution_count": 718,
   "id": "5f54e2cf",
   "metadata": {},
   "outputs": [
    {
     "name": "stdout",
     "output_type": "stream",
     "text": [
      "The subcategory with the most entries is:\n"
     ]
    },
    {
     "data": {
      "text/plain": [
       "subcategory\n",
       "bathroom supplies    6424\n",
       "Name: count, dtype: int64"
      ]
     },
     "execution_count": 718,
     "metadata": {},
     "output_type": "execute_result"
    }
   ],
   "source": [
    "# For the consumables,which subcategory had the most entries?\n",
    "consumables_df = df[df['category'] == 'consumables']\n",
    "most_entries_subcategory = consumables_df['subcategory'].value_counts().nlargest(1)\n",
    "print(f'The subcategory with the most entries is:') \n",
    "most_entries_subcategory"
   ]
  },
  {
   "cell_type": "code",
   "execution_count": 719,
   "id": "2db94379",
   "metadata": {},
   "outputs": [
    {
     "name": "stdout",
     "output_type": "stream",
     "text": [
      "The top five clients are:\n"
     ]
    },
    {
     "data": {
      "text/plain": [
       "client_id\n",
       "33615    220\n",
       "66037    211\n",
       "46820    209\n",
       "38378    207\n",
       "24741    207\n",
       "Name: count, dtype: int64"
      ]
     },
     "execution_count": 719,
     "metadata": {},
     "output_type": "execute_result"
    }
   ],
   "source": [
    "# Which five clients had the most entries in the data?\n",
    "top_five_clients = df['client_id'].value_counts().nlargest(5)   \n",
    "print(\"The top five clients are:\")\n",
    "top_five_clients"
   ]
  },
  {
   "cell_type": "code",
   "execution_count": 720,
   "id": "a6635601",
   "metadata": {},
   "outputs": [
    {
     "data": {
      "text/plain": [
       "[33615, 66037, 46820, 38378, 24741]"
      ]
     },
     "execution_count": 720,
     "metadata": {},
     "output_type": "execute_result"
    }
   ],
   "source": [
    "# Store the client ids of those top 5 clients in a list.\n",
    "top_five_client_ids  = top_five_clients.index.tolist()\n",
    "top_five_client_ids "
   ]
  },
  {
   "cell_type": "code",
   "execution_count": 721,
   "id": "c88b8a3e",
   "metadata": {},
   "outputs": [
    {
     "name": "stdout",
     "output_type": "stream",
     "text": [
      "Client 33615 was the top client with orderers totaling 64313 units.\n"
     ]
    }
   ],
   "source": [
    "# How many total units (the qty column) did the client  with the most entries order?\n",
    "total_units_client_33615 = df[df['client_id'] == 33615]['qty'].sum()\n",
    "print(f'Client 33615 was the top client with orderers totaling {total_units_client_33615} units.')\n"
   ]
  },
  {
   "cell_type": "markdown",
   "id": "257fcd7d",
   "metadata": {},
   "source": [
    "## Part 2: Transform the Data\n",
    "Do we know that this client spent the more money than client 66037? If not, how would we find out? Transform the data using the steps below to prepare it for analysis."
   ]
  },
  {
   "cell_type": "code",
   "execution_count": 732,
   "id": "0c25c4a8",
   "metadata": {},
   "outputs": [
    {
     "name": "stdout",
     "output_type": "stream",
     "text": [
      "   unit_price  qty  line_subtotal\n",
      "0     1096.80  105      115164.00\n",
      "1       24.95   21         523.95\n",
      "2       13.52   39         527.28\n",
      "3       36.42   29        1056.18\n",
      "4      195.10   20        3902.00\n"
     ]
    }
   ],
   "source": [
    "# Create a column that calculates the subtotal for each line using the unit_price and the qty\n",
    "# create a new column for client 33615 that calculates the subtotal for each line using the unit_price * the qty and then display the first 5 rows of the data.\n",
    "\n",
    "df['line_subtotal'] = (df['unit_price'] * df['qty'])\n",
    "print(df[['unit_price', 'qty', 'line_subtotal']].head())\n"
   ]
  },
  {
   "cell_type": "code",
   "execution_count": 724,
   "id": "ac9dafc8",
   "metadata": {},
   "outputs": [
    {
     "name": "stdout",
     "output_type": "stream",
     "text": [
      "   unit_price  unit_weight  qty  shipping_weight  shipping_price\n",
      "0     1096.80         7.50  105           787.50         5512.50\n",
      "1       24.95         1.49   21            31.29          312.90\n",
      "2       13.52         1.68   39            65.52          458.64\n",
      "3       36.42         1.23   29            35.67          356.70\n",
      "4      195.10        46.43   20           928.60         6500.20\n"
     ]
    }
   ],
   "source": [
    "# Create a column for shipping price.  Assume a shipping price of $7 per pound for orders over 50 pounds and $10 per pound for items 50 pounds or under.\n",
    "def calculate_shipping_price(row):\n",
    "    shipping_weight = row['unit_weight'] * row['qty']\n",
    "    if shipping_weight > 50:\n",
    "        return shipping_weight * 7\n",
    "    else:\n",
    "        return shipping_weight * 10\n",
    "df['shipping_weight'] = df['unit_weight'] * df['qty']\n",
    "df['shipping_price'] = df.apply(calculate_shipping_price, axis=1)\n",
    "print(df[['unit_price', 'unit_weight', 'qty', 'shipping_weight', 'shipping_price']].head())\n"
   ]
  },
  {
   "cell_type": "code",
   "execution_count": 725,
   "id": "77f42c67",
   "metadata": {},
   "outputs": [
    {
     "name": "stdout",
     "output_type": "stream",
     "text": [
      "   line_subtotal  shipping_price  line_subtotal  total_price\n",
      "0      115164.00         5512.50      115164.00    131839.08\n",
      "1         523.95          312.90         523.95       914.26\n",
      "2         527.28          458.64         527.28      1077.12\n",
      "3        1056.18          356.70        1056.18      1543.57\n",
      "4        3902.00         6500.20        3902.00     11364.40\n"
     ]
    }
   ],
   "source": [
    "# Create a column for the total price, using the subtotal and the shipping price, along with a sales tax of 9.25%\n",
    "df['sales_tax_rate'] = sales_tax_rate = 0.0925\n",
    "df['total_price'] = ((df['line_subtotal'] + df['shipping_price']) * (1 + df['sales_tax_rate'])).round(2)\n",
    "\n",
    "print(df[['line_subtotal', 'shipping_price', 'line_subtotal', 'total_price']].head())\n"
   ]
  },
  {
   "cell_type": "code",
   "execution_count": 726,
   "id": "c82ad275",
   "metadata": {},
   "outputs": [
    {
     "name": "stdout",
     "output_type": "stream",
     "text": [
      "   unit_cost  qty  shipping_price  line_cost\n",
      "0     762.71  105         5512.50   85597.05\n",
      "1      15.09   21          312.90     629.79\n",
      "2       7.86   39          458.64     765.18\n",
      "3      24.85   29          356.70    1077.35\n",
      "4     108.17   20         6500.20    8663.60\n"
     ]
    }
   ],
   "source": [
    "# Create a column for the cost of each line using unit cost, qty, and shipping price (assume the shipping cost is exactly what is charged to the client).\n",
    "df['line_cost'] = df['unit_cost'] * df['qty'] + df['shipping_price'] \n",
    "\n",
    "print(df[['unit_cost', 'qty', 'shipping_price', 'line_cost']].head())"
   ]
  },
  {
   "cell_type": "markdown",
   "id": "dad63245",
   "metadata": {},
   "source": []
  },
  {
   "cell_type": "code",
   "execution_count": 727,
   "id": "e2389018",
   "metadata": {},
   "outputs": [
    {
     "name": "stdout",
     "output_type": "stream",
     "text": [
      "   total_price  line_cost  line_profit\n",
      "0    131839.08   85597.05     46242.03\n",
      "1       914.26     629.79       284.47\n",
      "2      1077.12     765.18       311.94\n",
      "3      1543.57    1077.35       466.22\n",
      "4     11364.40    8663.60      2700.80\n"
     ]
    }
   ],
   "source": [
    "# Create a column for the profit of\n",
    "# each line using line cost and line price\n",
    "# Create a column for the profit of each line using line cost and line price\n",
    "df['line_profit'] = df['total_price'] - df['line_cost']\n",
    "print(df[['total_price', 'line_cost', 'line_profit']].head())\n"
   ]
  },
  {
   "cell_type": "markdown",
   "metadata": {},
   "source": []
  },
  {
   "cell_type": "markdown",
   "id": "ef6f62b1",
   "metadata": {},
   "source": [
    "## Part 3: Confirm your work\n",
    "You have email receipts showing that the total prices for 3 orders. Confirm that your calculations match the receipts. Remember, each order has multiple lines.\n",
    "\n",
    "Order ID 2742071 had a total price of \\$152,811.89\n",
    "\n",
    "Order ID 2173913 had a total price of \\$162,388.71\n",
    "\n",
    "Order ID 6128929 had a total price of \\$923,441.25\n"
   ]
  },
  {
   "cell_type": "code",
   "execution_count": 728,
   "id": "c0e5d68e",
   "metadata": {},
   "outputs": [
    {
     "name": "stdout",
     "output_type": "stream",
     "text": [
      "Total invoiced amount for Order ID 2742071: $152,811.890\n",
      "Total invoiced amount for Order ID 2173913: $162,388.710\n",
      "Total invoiced amount for Order ID 6128929: $923,441.250\n",
      "The total invoiced amounts match the receipt totals, confirming my work.\n"
     ]
    }
   ],
   "source": [
    "# Check your work using the totals above\n",
    "order_ids = [2742071, 2173913, 6128929]\n",
    "total_prices = []\n",
    "for order_id in order_ids:\n",
    "    total_price = df.loc[df['order_id'] == order_id, 'total_price'].sum()\n",
    "    total_prices.append(total_price)  # Store the total price for grand total calculation\n",
    "    print(f\"Total invoiced amount for Order ID {order_id}: ${'{:,.3f}'.format(total_price)}\") \n",
    "\n",
    "print(f\"The total invoiced amounts match the receipt totals, confirming my work.\") \n"
   ]
  },
  {
   "cell_type": "markdown",
   "id": "b94d58ab",
   "metadata": {},
   "source": [
    "## Part 4: Summarize and Analyze\n",
    "Use the new columns with confirmed values to find the following information."
   ]
  },
  {
   "cell_type": "code",
   "execution_count": 729,
   "id": "7c005f34",
   "metadata": {},
   "outputs": [
    {
     "name": "stdout",
     "output_type": "stream",
     "text": [
      "Client ID: 33615, Total invoiced: $8,377,308.52\n",
      "Client ID: 66037, Total invoiced: $10,259,514.79\n",
      "Client ID: 46820, Total invoiced: $9,743,794.36\n",
      "Client ID: 38378, Total invoiced: $12,906,550.87\n",
      "Client ID: 24741, Total invoiced: $82,268,892.02\n"
     ]
    }
   ],
   "source": [
    "# How much did each of the top 5 clients by quantity spend? Check your work from Part 1 for client ids.\n",
    "# Top five client IDs\n",
    "top_five_client_ids = [33615, 66037, 46820, 38378, 24741]\n",
    "\n",
    "# Create an empty dictionary to store total spend for each client\n",
    "total_spend_top_five_clients = {}\n",
    "\n",
    "# Calculate total spend for each client\n",
    "for client_id in top_five_client_ids:\n",
    "    total_invoiced = df[df['client_id'] == client_id]['total_price'].sum().round(2)\n",
    "    total_spend_top_five_clients[client_id] = total_invoiced\n",
    "\n",
    "# Print total spend for each client\n",
    "for client_id, total_invoiced in total_spend_top_five_clients.items():\n",
    "      print(f\"Client ID: {client_id}, Total invoiced: ${total_invoiced:,.2f}\")    # Sort the top_five_clients series in ascending order"
   ]
  },
  {
   "cell_type": "code",
   "execution_count": 730,
   "id": "81b6e4d2",
   "metadata": {},
   "outputs": [
    {
     "name": "stdout",
     "output_type": "stream",
     "text": [
      "              qty  shipping_price  total_price    line_cost  line_profit\n",
      "client_id                                                               \n",
      "24741      239862      5126448.37  82268892.02  45688899.71  36579992.31\n",
      "38378       73667      3429455.40  12906550.87   9634720.98   3271829.89\n",
      "66037       43018      1395151.85  10259514.79   7004482.98   3255031.81\n",
      "46820       75768      1601448.84   9743794.36   7007191.64   2736602.72\n",
      "33615       64313      1828984.89   8377308.52   6175313.91   2201994.61\n"
     ]
    }
   ],
   "source": [
    "# Create a summary DataFrame showing the totals for the for the top 5 clients with the following information: \n",
    "# total units purchased, \n",
    "# total shipping price, \n",
    "# total revenue, and \n",
    "# total profit. \n",
    "# Sort by total profit.\n",
    "\n",
    "top_five_clients_df = df[df['client_id'].isin(top_five_client_ids)]\n",
    "\n",
    "# Calculate summary statistics\n",
    "summary_df = top_five_clients_df.groupby('client_id').agg({\n",
    "    'qty': 'sum',  \n",
    "    'shipping_price': 'sum',\n",
    "    'total_price': 'sum',\n",
    "    'line_cost': 'sum',\n",
    "    'line_profit': 'sum',\n",
    "})\n",
    "\n",
    "# Sort by total profit descending\n",
    "summary_df = summary_df.sort_values(by='line_profit', ascending=False)\n",
    "\n",
    "print(summary_df)"
   ]
  },
  {
   "cell_type": "code",
   "execution_count": 731,
   "id": "7be02867",
   "metadata": {},
   "outputs": [
    {
     "data": {
      "text/html": [
       "<div>\n",
       "<style scoped>\n",
       "    .dataframe tbody tr th:only-of-type {\n",
       "        vertical-align: middle;\n",
       "    }\n",
       "\n",
       "    .dataframe tbody tr th {\n",
       "        vertical-align: top;\n",
       "    }\n",
       "\n",
       "    .dataframe thead th {\n",
       "        text-align: right;\n",
       "    }\n",
       "</style>\n",
       "<table border=\"1\" class=\"dataframe\">\n",
       "  <thead>\n",
       "    <tr style=\"text-align: right;\">\n",
       "      <th></th>\n",
       "      <th>Total Quantity</th>\n",
       "      <th>Total Shipping Price</th>\n",
       "      <th>Total Invoiced</th>\n",
       "      <th>Total Cost</th>\n",
       "      <th>Total Profit</th>\n",
       "    </tr>\n",
       "    <tr>\n",
       "      <th>client_id</th>\n",
       "      <th></th>\n",
       "      <th></th>\n",
       "      <th></th>\n",
       "      <th></th>\n",
       "      <th></th>\n",
       "    </tr>\n",
       "  </thead>\n",
       "  <tbody>\n",
       "    <tr>\n",
       "      <th>24741</th>\n",
       "      <td>239862</td>\n",
       "      <td>$5.13M</td>\n",
       "      <td>$82.27M</td>\n",
       "      <td>$45.69M</td>\n",
       "      <td>$36.58M</td>\n",
       "    </tr>\n",
       "    <tr>\n",
       "      <th>38378</th>\n",
       "      <td>73667</td>\n",
       "      <td>$3.43M</td>\n",
       "      <td>$12.91M</td>\n",
       "      <td>$9.63M</td>\n",
       "      <td>$3.27M</td>\n",
       "    </tr>\n",
       "    <tr>\n",
       "      <th>66037</th>\n",
       "      <td>43018</td>\n",
       "      <td>$1.40M</td>\n",
       "      <td>$10.26M</td>\n",
       "      <td>$7.00M</td>\n",
       "      <td>$3.26M</td>\n",
       "    </tr>\n",
       "    <tr>\n",
       "      <th>46820</th>\n",
       "      <td>75768</td>\n",
       "      <td>$1.60M</td>\n",
       "      <td>$9.74M</td>\n",
       "      <td>$7.01M</td>\n",
       "      <td>$2.74M</td>\n",
       "    </tr>\n",
       "    <tr>\n",
       "      <th>33615</th>\n",
       "      <td>64313</td>\n",
       "      <td>$1.83M</td>\n",
       "      <td>$8.38M</td>\n",
       "      <td>$6.18M</td>\n",
       "      <td>$2.20M</td>\n",
       "    </tr>\n",
       "  </tbody>\n",
       "</table>\n",
       "</div>"
      ],
      "text/plain": [
       "           Total Quantity Total Shipping Price Total Invoiced Total Cost  \\\n",
       "client_id                                                                  \n",
       "24741              239862               $5.13M        $82.27M    $45.69M   \n",
       "38378               73667               $3.43M        $12.91M     $9.63M   \n",
       "66037               43018               $1.40M        $10.26M     $7.00M   \n",
       "46820               75768               $1.60M         $9.74M     $7.01M   \n",
       "33615               64313               $1.83M         $8.38M     $6.18M   \n",
       "\n",
       "          Total Profit  \n",
       "client_id               \n",
       "24741          $36.58M  \n",
       "38378           $3.27M  \n",
       "66037           $3.26M  \n",
       "46820           $2.74M  \n",
       "33615           $2.20M  "
      ]
     },
     "execution_count": 731,
     "metadata": {},
     "output_type": "execute_result"
    }
   ],
   "source": [
    "# Format the data and rename the columns\n",
    "# to names suitable for presentation.\n",
    "# Currency should be in millions of dollars.\n",
    "\n",
    "summary_df = summary_df.rename(columns={\n",
    "     'client_id': 'Client ID',\n",
    "     'qty': 'Total Quantity',\n",
    "     'shipping_price': 'Total Shipping Price',\n",
    "     'total_price': 'Total Invoiced',\n",
    "     'line_cost': 'Total Cost',\n",
    "     'line_profit': 'Total Profit'})\n",
    "     \n",
    " \n",
    "currency_columns = ['Total Shipping Price', 'Total Invoiced', 'Total Cost', 'Total Profit']\n",
    "for column in currency_columns:\n",
    "     summary_df[column] = summary_df[column] / 1000000  # Convert to millions\n",
    "     summary_df[column] = summary_df[column].map('${:,.2f}M'.format)  # Format as string with $ sign and M for million\n",
    "\n",
    "# Sort the updated data by \"Total Profit\" form highest to lowest\n",
    "summary_df"
   ]
  }
 ],
 "metadata": {
  "kernelspec": {
   "display_name": "Python 3 (ipykernel)",
   "language": "python",
   "name": "python3"
  },
  "language_info": {
   "codemirror_mode": {
    "name": "ipython",
    "version": 3
   },
   "file_extension": ".py",
   "mimetype": "text/x-python",
   "name": "python",
   "nbconvert_exporter": "python",
   "pygments_lexer": "ipython3",
   "version": "3.10.13"
  }
 },
 "nbformat": 4,
 "nbformat_minor": 5
}
